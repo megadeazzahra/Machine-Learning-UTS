{
  "nbformat": 4,
  "nbformat_minor": 0,
  "metadata": {
    "colab": {
      "provenance": [],
      "include_colab_link": true
    },
    "kernelspec": {
      "name": "python3",
      "display_name": "Python 3"
    },
    "language_info": {
      "name": "python"
    }
  },
  "cells": [
    {
      "cell_type": "markdown",
      "metadata": {
        "id": "view-in-github",
        "colab_type": "text"
      },
      "source": [
        "<a href=\"https://colab.research.google.com/github/megadeazzahra/Machine-Learning-UTS/blob/main/UTS_ML.ipynb\" target=\"_parent\"><img src=\"https://colab.research.google.com/assets/colab-badge.svg\" alt=\"Open In Colab\"/></a>"
      ]
    },
    {
      "cell_type": "markdown",
      "source": [
        "#**PREDICT WINE**\n",
        "\n"
      ],
      "metadata": {
        "id": "gU12dLd7afzV"
      }
    },
    {
      "cell_type": "code",
      "source": [
        "from google.colab import drive\n",
        "drive.mount('/content/drive')"
      ],
      "metadata": {
        "id": "hiuKgvQAx9DH",
        "colab": {
          "base_uri": "https://localhost:8080/"
        },
        "outputId": "42b16eab-1f55-420f-b671-1fcfa5cc0dc0"
      },
      "execution_count": 1,
      "outputs": [
        {
          "output_type": "stream",
          "name": "stdout",
          "text": [
            "Mounted at /content/drive\n"
          ]
        }
      ]
    },
    {
      "cell_type": "markdown",
      "source": [
        "# Import Library"
      ],
      "metadata": {
        "id": "5Tu-BNI5nmDI"
      }
    },
    {
      "cell_type": "code",
      "source": [
        "import pandas as pd\n",
        "import numpy as np\n",
        "import matplotlib.pyplot as plt\n",
        "import seaborn as sns\n",
        "from sklearn.model_selection import train_test_split, GridSearchCV\n",
        "from sklearn.preprocessing import StandardScaler\n",
        "from sklearn.ensemble import RandomForestClassifier\n",
        "from sklearn.metrics import classification_report, confusion_matrix\n",
        "import joblib  # untuk menyimpan model"
      ],
      "metadata": {
        "id": "FMiKPE3vnpYK"
      },
      "execution_count": 2,
      "outputs": []
    },
    {
      "cell_type": "markdown",
      "source": [
        "# Preprocessing Data"
      ],
      "metadata": {
        "id": "97cEs9S_mycG"
      }
    },
    {
      "cell_type": "markdown",
      "source": [
        "## Load dan Cek Data"
      ],
      "metadata": {
        "id": "Tfp_6nAHcQg-"
      }
    },
    {
      "cell_type": "code",
      "source": [
        "train = pd.read_csv('/content/drive/MyDrive/machine learning (sem 6)/data_training.csv')\n",
        "test = pd.read_csv('/content/drive/MyDrive/machine learning (sem 6)/data_testing.csv')\n",
        "train.head()"
      ],
      "metadata": {
        "colab": {
          "base_uri": "https://localhost:8080/",
          "height": 261
        },
        "id": "bwdjgifqg5RU",
        "outputId": "ae782e83-b4ad-4ed8-dc6e-eb9d1b69be86"
      },
      "execution_count": 3,
      "outputs": [
        {
          "output_type": "execute_result",
          "data": {
            "text/plain": [
              "   fixed acidity  volatile acidity  citric acid  residual sugar  chlorides  \\\n",
              "0            7.3             0.740         0.08             1.7      0.094   \n",
              "1            8.1             0.575         0.22             2.1      0.077   \n",
              "2           10.1             0.430         0.40             2.6      0.092   \n",
              "3           12.9             0.500         0.55             2.8      0.072   \n",
              "4            8.4             0.360         0.32             2.2      0.081   \n",
              "\n",
              "   free sulfur dioxide  total sulfur dioxide  density    pH  sulphates  \\\n",
              "0                 10.0                  45.0  0.99576  3.24       0.50   \n",
              "1                 12.0                  65.0  0.99670  3.29       0.51   \n",
              "2                 13.0                  52.0  0.99834  3.22       0.64   \n",
              "3                  7.0                  24.0  1.00012  3.09       0.68   \n",
              "4                 32.0                  79.0  0.99640  3.30       0.72   \n",
              "\n",
              "   alcohol  quality    Id  \n",
              "0      9.8        5  1366  \n",
              "1      9.2        5   103  \n",
              "2     10.0        7   942  \n",
              "3     10.9        6   811  \n",
              "4     11.0        6   918  "
            ],
            "text/html": [
              "\n",
              "  <div id=\"df-ea92e345-af5b-42da-a65c-3921ab1c1925\" class=\"colab-df-container\">\n",
              "    <div>\n",
              "<style scoped>\n",
              "    .dataframe tbody tr th:only-of-type {\n",
              "        vertical-align: middle;\n",
              "    }\n",
              "\n",
              "    .dataframe tbody tr th {\n",
              "        vertical-align: top;\n",
              "    }\n",
              "\n",
              "    .dataframe thead th {\n",
              "        text-align: right;\n",
              "    }\n",
              "</style>\n",
              "<table border=\"1\" class=\"dataframe\">\n",
              "  <thead>\n",
              "    <tr style=\"text-align: right;\">\n",
              "      <th></th>\n",
              "      <th>fixed acidity</th>\n",
              "      <th>volatile acidity</th>\n",
              "      <th>citric acid</th>\n",
              "      <th>residual sugar</th>\n",
              "      <th>chlorides</th>\n",
              "      <th>free sulfur dioxide</th>\n",
              "      <th>total sulfur dioxide</th>\n",
              "      <th>density</th>\n",
              "      <th>pH</th>\n",
              "      <th>sulphates</th>\n",
              "      <th>alcohol</th>\n",
              "      <th>quality</th>\n",
              "      <th>Id</th>\n",
              "    </tr>\n",
              "  </thead>\n",
              "  <tbody>\n",
              "    <tr>\n",
              "      <th>0</th>\n",
              "      <td>7.3</td>\n",
              "      <td>0.740</td>\n",
              "      <td>0.08</td>\n",
              "      <td>1.7</td>\n",
              "      <td>0.094</td>\n",
              "      <td>10.0</td>\n",
              "      <td>45.0</td>\n",
              "      <td>0.99576</td>\n",
              "      <td>3.24</td>\n",
              "      <td>0.50</td>\n",
              "      <td>9.8</td>\n",
              "      <td>5</td>\n",
              "      <td>1366</td>\n",
              "    </tr>\n",
              "    <tr>\n",
              "      <th>1</th>\n",
              "      <td>8.1</td>\n",
              "      <td>0.575</td>\n",
              "      <td>0.22</td>\n",
              "      <td>2.1</td>\n",
              "      <td>0.077</td>\n",
              "      <td>12.0</td>\n",
              "      <td>65.0</td>\n",
              "      <td>0.99670</td>\n",
              "      <td>3.29</td>\n",
              "      <td>0.51</td>\n",
              "      <td>9.2</td>\n",
              "      <td>5</td>\n",
              "      <td>103</td>\n",
              "    </tr>\n",
              "    <tr>\n",
              "      <th>2</th>\n",
              "      <td>10.1</td>\n",
              "      <td>0.430</td>\n",
              "      <td>0.40</td>\n",
              "      <td>2.6</td>\n",
              "      <td>0.092</td>\n",
              "      <td>13.0</td>\n",
              "      <td>52.0</td>\n",
              "      <td>0.99834</td>\n",
              "      <td>3.22</td>\n",
              "      <td>0.64</td>\n",
              "      <td>10.0</td>\n",
              "      <td>7</td>\n",
              "      <td>942</td>\n",
              "    </tr>\n",
              "    <tr>\n",
              "      <th>3</th>\n",
              "      <td>12.9</td>\n",
              "      <td>0.500</td>\n",
              "      <td>0.55</td>\n",
              "      <td>2.8</td>\n",
              "      <td>0.072</td>\n",
              "      <td>7.0</td>\n",
              "      <td>24.0</td>\n",
              "      <td>1.00012</td>\n",
              "      <td>3.09</td>\n",
              "      <td>0.68</td>\n",
              "      <td>10.9</td>\n",
              "      <td>6</td>\n",
              "      <td>811</td>\n",
              "    </tr>\n",
              "    <tr>\n",
              "      <th>4</th>\n",
              "      <td>8.4</td>\n",
              "      <td>0.360</td>\n",
              "      <td>0.32</td>\n",
              "      <td>2.2</td>\n",
              "      <td>0.081</td>\n",
              "      <td>32.0</td>\n",
              "      <td>79.0</td>\n",
              "      <td>0.99640</td>\n",
              "      <td>3.30</td>\n",
              "      <td>0.72</td>\n",
              "      <td>11.0</td>\n",
              "      <td>6</td>\n",
              "      <td>918</td>\n",
              "    </tr>\n",
              "  </tbody>\n",
              "</table>\n",
              "</div>\n",
              "    <div class=\"colab-df-buttons\">\n",
              "\n",
              "  <div class=\"colab-df-container\">\n",
              "    <button class=\"colab-df-convert\" onclick=\"convertToInteractive('df-ea92e345-af5b-42da-a65c-3921ab1c1925')\"\n",
              "            title=\"Convert this dataframe to an interactive table.\"\n",
              "            style=\"display:none;\">\n",
              "\n",
              "  <svg xmlns=\"http://www.w3.org/2000/svg\" height=\"24px\" viewBox=\"0 -960 960 960\">\n",
              "    <path d=\"M120-120v-720h720v720H120Zm60-500h600v-160H180v160Zm220 220h160v-160H400v160Zm0 220h160v-160H400v160ZM180-400h160v-160H180v160Zm440 0h160v-160H620v160ZM180-180h160v-160H180v160Zm440 0h160v-160H620v160Z\"/>\n",
              "  </svg>\n",
              "    </button>\n",
              "\n",
              "  <style>\n",
              "    .colab-df-container {\n",
              "      display:flex;\n",
              "      gap: 12px;\n",
              "    }\n",
              "\n",
              "    .colab-df-convert {\n",
              "      background-color: #E8F0FE;\n",
              "      border: none;\n",
              "      border-radius: 50%;\n",
              "      cursor: pointer;\n",
              "      display: none;\n",
              "      fill: #1967D2;\n",
              "      height: 32px;\n",
              "      padding: 0 0 0 0;\n",
              "      width: 32px;\n",
              "    }\n",
              "\n",
              "    .colab-df-convert:hover {\n",
              "      background-color: #E2EBFA;\n",
              "      box-shadow: 0px 1px 2px rgba(60, 64, 67, 0.3), 0px 1px 3px 1px rgba(60, 64, 67, 0.15);\n",
              "      fill: #174EA6;\n",
              "    }\n",
              "\n",
              "    .colab-df-buttons div {\n",
              "      margin-bottom: 4px;\n",
              "    }\n",
              "\n",
              "    [theme=dark] .colab-df-convert {\n",
              "      background-color: #3B4455;\n",
              "      fill: #D2E3FC;\n",
              "    }\n",
              "\n",
              "    [theme=dark] .colab-df-convert:hover {\n",
              "      background-color: #434B5C;\n",
              "      box-shadow: 0px 1px 3px 1px rgba(0, 0, 0, 0.15);\n",
              "      filter: drop-shadow(0px 1px 2px rgba(0, 0, 0, 0.3));\n",
              "      fill: #FFFFFF;\n",
              "    }\n",
              "  </style>\n",
              "\n",
              "    <script>\n",
              "      const buttonEl =\n",
              "        document.querySelector('#df-ea92e345-af5b-42da-a65c-3921ab1c1925 button.colab-df-convert');\n",
              "      buttonEl.style.display =\n",
              "        google.colab.kernel.accessAllowed ? 'block' : 'none';\n",
              "\n",
              "      async function convertToInteractive(key) {\n",
              "        const element = document.querySelector('#df-ea92e345-af5b-42da-a65c-3921ab1c1925');\n",
              "        const dataTable =\n",
              "          await google.colab.kernel.invokeFunction('convertToInteractive',\n",
              "                                                    [key], {});\n",
              "        if (!dataTable) return;\n",
              "\n",
              "        const docLinkHtml = 'Like what you see? Visit the ' +\n",
              "          '<a target=\"_blank\" href=https://colab.research.google.com/notebooks/data_table.ipynb>data table notebook</a>'\n",
              "          + ' to learn more about interactive tables.';\n",
              "        element.innerHTML = '';\n",
              "        dataTable['output_type'] = 'display_data';\n",
              "        await google.colab.output.renderOutput(dataTable, element);\n",
              "        const docLink = document.createElement('div');\n",
              "        docLink.innerHTML = docLinkHtml;\n",
              "        element.appendChild(docLink);\n",
              "      }\n",
              "    </script>\n",
              "  </div>\n",
              "\n",
              "\n",
              "<div id=\"df-a021a13e-0431-4378-96b7-2efd1d16ec49\">\n",
              "  <button class=\"colab-df-quickchart\" onclick=\"quickchart('df-a021a13e-0431-4378-96b7-2efd1d16ec49')\"\n",
              "            title=\"Suggest charts\"\n",
              "            style=\"display:none;\">\n",
              "\n",
              "<svg xmlns=\"http://www.w3.org/2000/svg\" height=\"24px\"viewBox=\"0 0 24 24\"\n",
              "     width=\"24px\">\n",
              "    <g>\n",
              "        <path d=\"M19 3H5c-1.1 0-2 .9-2 2v14c0 1.1.9 2 2 2h14c1.1 0 2-.9 2-2V5c0-1.1-.9-2-2-2zM9 17H7v-7h2v7zm4 0h-2V7h2v10zm4 0h-2v-4h2v4z\"/>\n",
              "    </g>\n",
              "</svg>\n",
              "  </button>\n",
              "\n",
              "<style>\n",
              "  .colab-df-quickchart {\n",
              "      --bg-color: #E8F0FE;\n",
              "      --fill-color: #1967D2;\n",
              "      --hover-bg-color: #E2EBFA;\n",
              "      --hover-fill-color: #174EA6;\n",
              "      --disabled-fill-color: #AAA;\n",
              "      --disabled-bg-color: #DDD;\n",
              "  }\n",
              "\n",
              "  [theme=dark] .colab-df-quickchart {\n",
              "      --bg-color: #3B4455;\n",
              "      --fill-color: #D2E3FC;\n",
              "      --hover-bg-color: #434B5C;\n",
              "      --hover-fill-color: #FFFFFF;\n",
              "      --disabled-bg-color: #3B4455;\n",
              "      --disabled-fill-color: #666;\n",
              "  }\n",
              "\n",
              "  .colab-df-quickchart {\n",
              "    background-color: var(--bg-color);\n",
              "    border: none;\n",
              "    border-radius: 50%;\n",
              "    cursor: pointer;\n",
              "    display: none;\n",
              "    fill: var(--fill-color);\n",
              "    height: 32px;\n",
              "    padding: 0;\n",
              "    width: 32px;\n",
              "  }\n",
              "\n",
              "  .colab-df-quickchart:hover {\n",
              "    background-color: var(--hover-bg-color);\n",
              "    box-shadow: 0 1px 2px rgba(60, 64, 67, 0.3), 0 1px 3px 1px rgba(60, 64, 67, 0.15);\n",
              "    fill: var(--button-hover-fill-color);\n",
              "  }\n",
              "\n",
              "  .colab-df-quickchart-complete:disabled,\n",
              "  .colab-df-quickchart-complete:disabled:hover {\n",
              "    background-color: var(--disabled-bg-color);\n",
              "    fill: var(--disabled-fill-color);\n",
              "    box-shadow: none;\n",
              "  }\n",
              "\n",
              "  .colab-df-spinner {\n",
              "    border: 2px solid var(--fill-color);\n",
              "    border-color: transparent;\n",
              "    border-bottom-color: var(--fill-color);\n",
              "    animation:\n",
              "      spin 1s steps(1) infinite;\n",
              "  }\n",
              "\n",
              "  @keyframes spin {\n",
              "    0% {\n",
              "      border-color: transparent;\n",
              "      border-bottom-color: var(--fill-color);\n",
              "      border-left-color: var(--fill-color);\n",
              "    }\n",
              "    20% {\n",
              "      border-color: transparent;\n",
              "      border-left-color: var(--fill-color);\n",
              "      border-top-color: var(--fill-color);\n",
              "    }\n",
              "    30% {\n",
              "      border-color: transparent;\n",
              "      border-left-color: var(--fill-color);\n",
              "      border-top-color: var(--fill-color);\n",
              "      border-right-color: var(--fill-color);\n",
              "    }\n",
              "    40% {\n",
              "      border-color: transparent;\n",
              "      border-right-color: var(--fill-color);\n",
              "      border-top-color: var(--fill-color);\n",
              "    }\n",
              "    60% {\n",
              "      border-color: transparent;\n",
              "      border-right-color: var(--fill-color);\n",
              "    }\n",
              "    80% {\n",
              "      border-color: transparent;\n",
              "      border-right-color: var(--fill-color);\n",
              "      border-bottom-color: var(--fill-color);\n",
              "    }\n",
              "    90% {\n",
              "      border-color: transparent;\n",
              "      border-bottom-color: var(--fill-color);\n",
              "    }\n",
              "  }\n",
              "</style>\n",
              "\n",
              "  <script>\n",
              "    async function quickchart(key) {\n",
              "      const quickchartButtonEl =\n",
              "        document.querySelector('#' + key + ' button');\n",
              "      quickchartButtonEl.disabled = true;  // To prevent multiple clicks.\n",
              "      quickchartButtonEl.classList.add('colab-df-spinner');\n",
              "      try {\n",
              "        const charts = await google.colab.kernel.invokeFunction(\n",
              "            'suggestCharts', [key], {});\n",
              "      } catch (error) {\n",
              "        console.error('Error during call to suggestCharts:', error);\n",
              "      }\n",
              "      quickchartButtonEl.classList.remove('colab-df-spinner');\n",
              "      quickchartButtonEl.classList.add('colab-df-quickchart-complete');\n",
              "    }\n",
              "    (() => {\n",
              "      let quickchartButtonEl =\n",
              "        document.querySelector('#df-a021a13e-0431-4378-96b7-2efd1d16ec49 button');\n",
              "      quickchartButtonEl.style.display =\n",
              "        google.colab.kernel.accessAllowed ? 'block' : 'none';\n",
              "    })();\n",
              "  </script>\n",
              "</div>\n",
              "\n",
              "    </div>\n",
              "  </div>\n"
            ],
            "application/vnd.google.colaboratory.intrinsic+json": {
              "type": "dataframe",
              "variable_name": "train",
              "summary": "{\n  \"name\": \"train\",\n  \"rows\": 857,\n  \"fields\": [\n    {\n      \"column\": \"fixed acidity\",\n      \"properties\": {\n        \"dtype\": \"number\",\n        \"std\": 1.7019916544690057,\n        \"min\": 4.6,\n        \"max\": 15.6,\n        \"num_unique_values\": 87,\n        \"samples\": [\n          11.7,\n          7.3,\n          7.0\n        ],\n        \"semantic_type\": \"\",\n        \"description\": \"\"\n      }\n    },\n    {\n      \"column\": \"volatile acidity\",\n      \"properties\": {\n        \"dtype\": \"number\",\n        \"std\": 0.17916174387452868,\n        \"min\": 0.12,\n        \"max\": 1.58,\n        \"num_unique_values\": 125,\n        \"samples\": [\n          0.45,\n          1.58,\n          0.61\n        ],\n        \"semantic_type\": \"\",\n        \"description\": \"\"\n      }\n    },\n    {\n      \"column\": \"citric acid\",\n      \"properties\": {\n        \"dtype\": \"number\",\n        \"std\": 0.19514398973678274,\n        \"min\": 0.0,\n        \"max\": 1.0,\n        \"num_unique_values\": 75,\n        \"samples\": [\n          0.32,\n          0.33,\n          0.51\n        ],\n        \"semantic_type\": \"\",\n        \"description\": \"\"\n      }\n    },\n    {\n      \"column\": \"residual sugar\",\n      \"properties\": {\n        \"dtype\": \"number\",\n        \"std\": 1.2935123987744634,\n        \"min\": 0.9,\n        \"max\": 15.5,\n        \"num_unique_values\": 74,\n        \"samples\": [\n          2.2,\n          1.65,\n          2.4\n        ],\n        \"semantic_type\": \"\",\n        \"description\": \"\"\n      }\n    },\n    {\n      \"column\": \"chlorides\",\n      \"properties\": {\n        \"dtype\": \"number\",\n        \"std\": 0.04872053539468444,\n        \"min\": 0.012,\n        \"max\": 0.611,\n        \"num_unique_values\": 123,\n        \"samples\": [\n          0.085,\n          0.105,\n          0.073\n        ],\n        \"semantic_type\": \"\",\n        \"description\": \"\"\n      }\n    },\n    {\n      \"column\": \"free sulfur dioxide\",\n      \"properties\": {\n        \"dtype\": \"number\",\n        \"std\": 10.300402137592469,\n        \"min\": 1.0,\n        \"max\": 68.0,\n        \"num_unique_values\": 52,\n        \"samples\": [\n          8.0,\n          27.0,\n          43.0\n        ],\n        \"semantic_type\": \"\",\n        \"description\": \"\"\n      }\n    },\n    {\n      \"column\": \"total sulfur dioxide\",\n      \"properties\": {\n        \"dtype\": \"number\",\n        \"std\": 31.692112779554094,\n        \"min\": 6.0,\n        \"max\": 278.0,\n        \"num_unique_values\": 129,\n        \"samples\": [\n          38.0,\n          46.0,\n          29.0\n        ],\n        \"semantic_type\": \"\",\n        \"description\": \"\"\n      }\n    },\n    {\n      \"column\": \"density\",\n      \"properties\": {\n        \"dtype\": \"number\",\n        \"std\": 0.0019012329910274178,\n        \"min\": 0.99007,\n        \"max\": 1.0032,\n        \"num_unique_values\": 339,\n        \"samples\": [\n          0.99665,\n          0.99575,\n          0.99808\n        ],\n        \"semantic_type\": \"\",\n        \"description\": \"\"\n      }\n    },\n    {\n      \"column\": \"pH\",\n      \"properties\": {\n        \"dtype\": \"number\",\n        \"std\": 0.15207868765941462,\n        \"min\": 2.74,\n        \"max\": 4.01,\n        \"num_unique_values\": 82,\n        \"samples\": [\n          3.12,\n          3.24,\n          2.99\n        ],\n        \"semantic_type\": \"\",\n        \"description\": \"\"\n      }\n    },\n    {\n      \"column\": \"sulphates\",\n      \"properties\": {\n        \"dtype\": \"number\",\n        \"std\": 0.16736384008791877,\n        \"min\": 0.39,\n        \"max\": 2.0,\n        \"num_unique_values\": 82,\n        \"samples\": [\n          0.67,\n          0.5,\n          0.62\n        ],\n        \"semantic_type\": \"\",\n        \"description\": \"\"\n      }\n    },\n    {\n      \"column\": \"alcohol\",\n      \"properties\": {\n        \"dtype\": \"number\",\n        \"std\": 1.0669708980569554,\n        \"min\": 8.4,\n        \"max\": 14.0,\n        \"num_unique_values\": 55,\n        \"samples\": [\n          12.5,\n          9.7,\n          12.9\n        ],\n        \"semantic_type\": \"\",\n        \"description\": \"\"\n      }\n    },\n    {\n      \"column\": \"quality\",\n      \"properties\": {\n        \"dtype\": \"number\",\n        \"std\": 0,\n        \"min\": 3,\n        \"max\": 8,\n        \"num_unique_values\": 6,\n        \"samples\": [\n          5,\n          7,\n          3\n        ],\n        \"semantic_type\": \"\",\n        \"description\": \"\"\n      }\n    },\n    {\n      \"column\": \"Id\",\n      \"properties\": {\n        \"dtype\": \"number\",\n        \"std\": 463,\n        \"min\": 0,\n        \"max\": 1597,\n        \"num_unique_values\": 857,\n        \"samples\": [\n          904,\n          906,\n          1064\n        ],\n        \"semantic_type\": \"\",\n        \"description\": \"\"\n      }\n    }\n  ]\n}"
            }
          },
          "metadata": {},
          "execution_count": 3
        }
      ]
    },
    {
      "cell_type": "markdown",
      "source": [
        "## Cek Missing Values"
      ],
      "metadata": {
        "id": "MLu4_7Lcm36v"
      }
    },
    {
      "cell_type": "code",
      "source": [
        "train.info()\n",
        "train.isnull().sum()"
      ],
      "metadata": {
        "colab": {
          "base_uri": "https://localhost:8080/",
          "height": 839
        },
        "id": "c8AhhaX0hGxB",
        "outputId": "c93e3f70-59f0-4051-fceb-95be2ffa56d4"
      },
      "execution_count": 4,
      "outputs": [
        {
          "output_type": "stream",
          "name": "stdout",
          "text": [
            "<class 'pandas.core.frame.DataFrame'>\n",
            "RangeIndex: 857 entries, 0 to 856\n",
            "Data columns (total 13 columns):\n",
            " #   Column                Non-Null Count  Dtype  \n",
            "---  ------                --------------  -----  \n",
            " 0   fixed acidity         857 non-null    float64\n",
            " 1   volatile acidity      857 non-null    float64\n",
            " 2   citric acid           857 non-null    float64\n",
            " 3   residual sugar        857 non-null    float64\n",
            " 4   chlorides             857 non-null    float64\n",
            " 5   free sulfur dioxide   857 non-null    float64\n",
            " 6   total sulfur dioxide  857 non-null    float64\n",
            " 7   density               857 non-null    float64\n",
            " 8   pH                    857 non-null    float64\n",
            " 9   sulphates             857 non-null    float64\n",
            " 10  alcohol               857 non-null    float64\n",
            " 11  quality               857 non-null    int64  \n",
            " 12  Id                    857 non-null    int64  \n",
            "dtypes: float64(11), int64(2)\n",
            "memory usage: 87.2 KB\n"
          ]
        },
        {
          "output_type": "execute_result",
          "data": {
            "text/plain": [
              "fixed acidity           0\n",
              "volatile acidity        0\n",
              "citric acid             0\n",
              "residual sugar          0\n",
              "chlorides               0\n",
              "free sulfur dioxide     0\n",
              "total sulfur dioxide    0\n",
              "density                 0\n",
              "pH                      0\n",
              "sulphates               0\n",
              "alcohol                 0\n",
              "quality                 0\n",
              "Id                      0\n",
              "dtype: int64"
            ],
            "text/html": [
              "<div>\n",
              "<style scoped>\n",
              "    .dataframe tbody tr th:only-of-type {\n",
              "        vertical-align: middle;\n",
              "    }\n",
              "\n",
              "    .dataframe tbody tr th {\n",
              "        vertical-align: top;\n",
              "    }\n",
              "\n",
              "    .dataframe thead th {\n",
              "        text-align: right;\n",
              "    }\n",
              "</style>\n",
              "<table border=\"1\" class=\"dataframe\">\n",
              "  <thead>\n",
              "    <tr style=\"text-align: right;\">\n",
              "      <th></th>\n",
              "      <th>0</th>\n",
              "    </tr>\n",
              "  </thead>\n",
              "  <tbody>\n",
              "    <tr>\n",
              "      <th>fixed acidity</th>\n",
              "      <td>0</td>\n",
              "    </tr>\n",
              "    <tr>\n",
              "      <th>volatile acidity</th>\n",
              "      <td>0</td>\n",
              "    </tr>\n",
              "    <tr>\n",
              "      <th>citric acid</th>\n",
              "      <td>0</td>\n",
              "    </tr>\n",
              "    <tr>\n",
              "      <th>residual sugar</th>\n",
              "      <td>0</td>\n",
              "    </tr>\n",
              "    <tr>\n",
              "      <th>chlorides</th>\n",
              "      <td>0</td>\n",
              "    </tr>\n",
              "    <tr>\n",
              "      <th>free sulfur dioxide</th>\n",
              "      <td>0</td>\n",
              "    </tr>\n",
              "    <tr>\n",
              "      <th>total sulfur dioxide</th>\n",
              "      <td>0</td>\n",
              "    </tr>\n",
              "    <tr>\n",
              "      <th>density</th>\n",
              "      <td>0</td>\n",
              "    </tr>\n",
              "    <tr>\n",
              "      <th>pH</th>\n",
              "      <td>0</td>\n",
              "    </tr>\n",
              "    <tr>\n",
              "      <th>sulphates</th>\n",
              "      <td>0</td>\n",
              "    </tr>\n",
              "    <tr>\n",
              "      <th>alcohol</th>\n",
              "      <td>0</td>\n",
              "    </tr>\n",
              "    <tr>\n",
              "      <th>quality</th>\n",
              "      <td>0</td>\n",
              "    </tr>\n",
              "    <tr>\n",
              "      <th>Id</th>\n",
              "      <td>0</td>\n",
              "    </tr>\n",
              "  </tbody>\n",
              "</table>\n",
              "</div><br><label><b>dtype:</b> int64</label>"
            ]
          },
          "metadata": {},
          "execution_count": 4
        }
      ]
    },
    {
      "cell_type": "markdown",
      "source": [
        " Mengecek tipe data dan jumlah nilai yang hilang (missing values) di setiap kolom dan tidak terdapat missing value pada data ini serta tidak perlu melakukan encoding.\n",
        "\n"
      ],
      "metadata": {
        "id": "ktJg0_oMdSHS"
      }
    },
    {
      "cell_type": "markdown",
      "source": [
        "## Membersihkan Data"
      ],
      "metadata": {
        "id": "aMF-lv7SdXzs"
      }
    },
    {
      "cell_type": "code",
      "source": [
        "# 4. Visualisasi Distribusi Quality\n",
        "plt.figure(figsize=(8, 5))\n",
        "ax = sns.countplot(data=train, x='quality', palette='viridis')\n",
        "plt.title(\"Distribusi Kualitas Anggur (Training Set)\", fontsize=14)\n",
        "plt.xlabel(\"Quality\", fontsize=12)\n",
        "plt.ylabel(\"Jumlah\", fontsize=12)\n",
        "\n",
        "# Tambahkan label jumlah di atas tiap bar\n",
        "for p in ax.patches:\n",
        "    count = int(p.get_height())\n",
        "    ax.annotate(f'{count}', (p.get_x() + p.get_width() / 2., p.get_height()),\n",
        "                ha='center', va='bottom', fontsize=10, fontweight='bold')\n",
        "\n",
        "plt.tight_layout()\n",
        "plt.show()\n",
        "print(\"Distribusi jumlah data berdasarkan nilai kualitas anggur:\")\n",
        "print(train['quality'].value_counts().sort_index())"
      ],
      "metadata": {
        "id": "QTvPdEerpCC0",
        "colab": {
          "base_uri": "https://localhost:8080/",
          "height": 746
        },
        "outputId": "65f5c33c-be81-4413-bfc0-bc49fa9c85da"
      },
      "execution_count": 5,
      "outputs": [
        {
          "output_type": "stream",
          "name": "stderr",
          "text": [
            "<ipython-input-5-69e5c04fb29f>:3: FutureWarning: \n",
            "\n",
            "Passing `palette` without assigning `hue` is deprecated and will be removed in v0.14.0. Assign the `x` variable to `hue` and set `legend=False` for the same effect.\n",
            "\n",
            "  ax = sns.countplot(data=train, x='quality', palette='viridis')\n"
          ]
        },
        {
          "output_type": "display_data",
          "data": {
            "text/plain": [
              "<Figure size 800x500 with 1 Axes>"
            ],
            "image/png": "[encoded data removed]"
          },
          "metadata": {}
        },
        {
          "output_type": "stream",
          "name": "stdout",
          "text": [
            "Distribusi jumlah data berdasarkan nilai kualitas anggur:\n",
            "quality\n",
            "3      6\n",
            "4     26\n",
            "5    362\n",
            "6    341\n",
            "7    109\n",
            "8     13\n",
            "Name: count, dtype: int64\n"
          ]
        }
      ]
    },
    {
      "cell_type": "markdown",
      "source": [
        "data tidak terdistribusi secara seimbang, perlu dilakukan penyeimbangan data"
      ],
      "metadata": {
        "id": "G5C4ZyatyI99"
      }
    },
    {
      "cell_type": "code",
      "source": [
        "# Menampilkan baris yang duplikat (seluruh kolom sama persis)\n",
        "duplikat = train[train.duplicated()]\n",
        "\n",
        "# Menampilkan jika ada\n",
        "print(duplikat)\n",
        "\n",
        "# Mengetahui jumlah baris duplikat\n",
        "print(f\"Jumlah duplikat: {train.duplicated().sum()}\")\n"
      ],
      "metadata": {
        "colab": {
          "base_uri": "https://localhost:8080/"
        },
        "id": "tmzMldyxiFsc",
        "outputId": "69c95468-8580-49bd-eac9-02b848f52ad7"
      },
      "execution_count": 6,
      "outputs": [
        {
          "output_type": "stream",
          "name": "stdout",
          "text": [
            "Empty DataFrame\n",
            "Columns: [fixed acidity, volatile acidity, citric acid, residual sugar, chlorides, free sulfur dioxide, total sulfur dioxide, density, pH, sulphates, alcohol, quality, Id]\n",
            "Index: []\n",
            "Jumlah duplikat: 0\n"
          ]
        }
      ]
    },
    {
      "cell_type": "markdown",
      "source": [
        "tidak ada data yang duplikat"
      ],
      "metadata": {
        "id": "O-vZpklkiNGy"
      }
    },
    {
      "cell_type": "markdown",
      "source": [
        "# Pisahkan data"
      ],
      "metadata": {
        "id": "Llbj8MVRy2Hb"
      }
    },
    {
      "cell_type": "code",
      "source": [
        "X = train.drop(['quality', 'Id'], axis=1)\n",
        "y = train['quality']\n",
        "\n",
        "# Cek bentuk data\n",
        "print(\"Shape fitur (X):\", X.shape)\n",
        "print(\"Shape target (y):\", y.shape)\n"
      ],
      "metadata": {
        "colab": {
          "base_uri": "https://localhost:8080/"
        },
        "id": "LEROFuSZi15-",
        "outputId": "f49f49eb-bbec-48ad-8f2e-21067f4bdddf"
      },
      "execution_count": 7,
      "outputs": [
        {
          "output_type": "stream",
          "name": "stdout",
          "text": [
            "Shape fitur (X): (857, 11)\n",
            "Shape target (y): (857,)\n"
          ]
        }
      ]
    },
    {
      "cell_type": "markdown",
      "source": [
        "# Seimbangkan data"
      ],
      "metadata": {
        "id": "rKiAIaR3jAO_"
      }
    },
    {
      "cell_type": "code",
      "source": [
        "from imblearn.over_sampling import SMOTE\n",
        "from collections import Counter"
      ],
      "metadata": {
        "id": "D9UsLpl2kw7K"
      },
      "execution_count": 8,
      "outputs": []
    },
    {
      "cell_type": "code",
      "source": [
        "# Scaling dulu (SMOTE sensitif terhadap skala)\n",
        "scaler = StandardScaler()\n",
        "X_scaled = scaler.fit_transform(X)"
      ],
      "metadata": {
        "id": "JiRhViZVk0mP"
      },
      "execution_count": 9,
      "outputs": []
    },
    {
      "cell_type": "code",
      "source": [
        "# Terapkan SMOTE\n",
        "smote = SMOTE(random_state=42)\n",
        "X_resampled, y_resampled = smote.fit_resample(X_scaled, y)"
      ],
      "metadata": {
        "id": "gECYBiTdk20t"
      },
      "execution_count": 10,
      "outputs": []
    },
    {
      "cell_type": "code",
      "source": [
        "# Cek distribusi baru\n",
        "print(\"Distribusi setelah SMOTE (Oversampling):\")\n",
        "print(Counter(y_resampled))"
      ],
      "metadata": {
        "colab": {
          "base_uri": "https://localhost:8080/"
        },
        "id": "1aYiJ0a9k6ov",
        "outputId": "df8866fd-355f-4a72-d78c-487ed5f1c57b"
      },
      "execution_count": 11,
      "outputs": [
        {
          "output_type": "stream",
          "name": "stdout",
          "text": [
            "Distribusi setelah SMOTE (Oversampling):\n",
            "Counter({5: 362, 7: 362, 6: 362, 4: 362, 8: 362, 3: 362})\n"
          ]
        }
      ]
    },
    {
      "cell_type": "code",
      "source": [
        "# Konversi y_resampled (ndarray) jadi Series agar bisa langsung dipakai di seaborn\n",
        "y_res_series = pd.Series(y_resampled, name=\"quality\")\n",
        "\n",
        "# Plot distribusi\n",
        "plt.figure(figsize=(8, 5))\n",
        "ax = sns.countplot(x=y_res_series, palette='Set2')\n",
        "plt.title(\"Distribusi Kelas Setelah SMOTE (Oversampling)\", fontsize=14)\n",
        "plt.xlabel(\"Quality\", fontsize=12)\n",
        "plt.ylabel(\"Jumlah\", fontsize=12)\n",
        "\n",
        "# Tambahkan label jumlah di atas bar\n",
        "for p in ax.patches:\n",
        "    count = int(p.get_height())\n",
        "    ax.annotate(f'{count}', (p.get_x() + p.get_width() / 2., p.get_height()),\n",
        "                ha='center', va='bottom', fontsize=10, fontweight='bold')\n",
        "\n",
        "plt.tight_layout()\n",
        "plt.show()"
      ],
      "metadata": {
        "colab": {
          "base_uri": "https://localhost:8080/",
          "height": 590
        },
        "id": "Em4jUQCClwNZ",
        "outputId": "bdbfde3f-0830-4019-97f9-deacdbec1a87"
      },
      "execution_count": 12,
      "outputs": [
        {
          "output_type": "stream",
          "name": "stderr",
          "text": [
            "<ipython-input-12-0e929bada3df>:6: FutureWarning: \n",
            "\n",
            "Passing `palette` without assigning `hue` is deprecated and will be removed in v0.14.0. Assign the `x` variable to `hue` and set `legend=False` for the same effect.\n",
            "\n",
            "  ax = sns.countplot(x=y_res_series, palette='Set2')\n"
          ]
        },
        {
          "output_type": "display_data",
          "data": {
            "text/plain": [
              "<Figure size 800x500 with 1 Axes>"
            ],
            "image/png": "[encoded data removed]"
          },
          "metadata": {}
        }
      ]
    },
    {
      "cell_type": "code",
      "source": [
        "# Simpan scaler dan SMOTE object\n",
        "joblib.dump(scaler, 'scaler.pkl')\n",
        "joblib.dump(smote, 'smote.pkl')\n",
        "\n",
        "# Simpan hasil X dan y hasil resampling dalam bentuk file .pkl\n",
        "joblib.dump(X_resampled, 'X_resampled.pkl')\n",
        "joblib.dump(y_resampled, 'y_resampled.pkl')\n"
      ],
      "metadata": {
        "colab": {
          "base_uri": "https://localhost:8080/"
        },
        "id": "WroA-sseoXVO",
        "outputId": "cacfd7af-e153-482a-9c3a-f60d9b3ac066"
      },
      "execution_count": 13,
      "outputs": [
        {
          "output_type": "execute_result",
          "data": {
            "text/plain": [
              "['y_resampled.pkl']"
            ]
          },
          "metadata": {},
          "execution_count": 13
        }
      ]
    },
    {
      "cell_type": "markdown",
      "source": [
        "## Split dataset"
      ],
      "metadata": {
        "id": "gEuMwoCjnHUx"
      }
    },
    {
      "cell_type": "code",
      "source": [
        "from sklearn.model_selection import train_test_split\n",
        "\n",
        "# Split data hasil SMOTE (X_resampled dan y_resampled)\n",
        "X_train, X_test, y_train, y_test = train_test_split(\n",
        "    X_resampled, y_resampled,\n",
        "    test_size=0.2,\n",
        "    random_state=42,\n",
        "    stratify=y_resampled\n",
        ")\n",
        "\n",
        "# Cek ukuran hasil split\n",
        "print(\"Ukuran data latih:\", X_train.shape)\n",
        "print(\"Ukuran data uji:\", X_test.shape)\n"
      ],
      "metadata": {
        "colab": {
          "base_uri": "https://localhost:8080/"
        },
        "id": "THyeOy3for8z",
        "outputId": "b90a487b-3608-4d12-dab9-50fce57431ab"
      },
      "execution_count": 14,
      "outputs": [
        {
          "output_type": "stream",
          "name": "stdout",
          "text": [
            "Ukuran data latih: (1737, 11)\n",
            "Ukuran data uji: (435, 11)\n"
          ]
        }
      ]
    },
    {
      "cell_type": "markdown",
      "source": [
        "#  Implementasi Model"
      ],
      "metadata": {
        "id": "eH_aLoonnLVy"
      }
    },
    {
      "cell_type": "markdown",
      "source": [
        "## Train Model Random Forest"
      ],
      "metadata": {
        "id": "9Jgfvb4_HAn1"
      }
    },
    {
      "cell_type": "code",
      "source": [
        "rf_model = RandomForestClassifier(n_estimators=100, random_state=42)\n",
        "rf_model.fit(X_train, y_train)\n",
        "y_pred = rf_model.predict(X_test)"
      ],
      "metadata": {
        "id": "FCDIiO7VG5FJ"
      },
      "execution_count": 15,
      "outputs": []
    },
    {
      "cell_type": "markdown",
      "source": [
        "- Menggunakan Random Forest sebagai model\n",
        "\n",
        "- Melatih model dan melakukan prediksi."
      ],
      "metadata": {
        "id": "hisPR3e1hkms"
      }
    },
    {
      "cell_type": "markdown",
      "source": [
        "## Evaluasi Model Random Forest"
      ],
      "metadata": {
        "id": "G-LFw0Gdh8uf"
      }
    },
    {
      "cell_type": "code",
      "source": [
        "from sklearn.metrics import accuracy_score, classification_report # Import accuracy_score and classification_reportprint(\"\\nRandom Forest Results:\")\n",
        "print(\"Accuracy:\", accuracy_score(y_test, y_pred))\n",
        "print(\"\\nClassification Report:\\n\", classification_report(y_test, y_pred))"
      ],
      "metadata": {
        "colab": {
          "base_uri": "https://localhost:8080/"
        },
        "id": "rYGlAGKKhiA-",
        "outputId": "be7fcfb7-064b-4a1e-fb5c-8f6608da2f51"
      },
      "execution_count": 16,
      "outputs": [
        {
          "output_type": "stream",
          "name": "stdout",
          "text": [
            "Accuracy: 0.8482758620689655\n",
            "\n",
            "Classification Report:\n",
            "               precision    recall  f1-score   support\n",
            "\n",
            "           3       0.96      1.00      0.98        72\n",
            "           4       0.94      0.94      0.94        72\n",
            "           5       0.71      0.68      0.70        73\n",
            "           6       0.66      0.59      0.62        73\n",
            "           7       0.81      0.90      0.86        73\n",
            "           8       0.97      0.97      0.97        72\n",
            "\n",
            "    accuracy                           0.85       435\n",
            "   macro avg       0.84      0.85      0.85       435\n",
            "weighted avg       0.84      0.85      0.85       435\n",
            "\n"
          ]
        }
      ]
    },
    {
      "cell_type": "markdown",
      "source": [
        "Hasil evaluasi model menunjukkan performa yang cukup baik setelah dilakukan oversampling. Akurasi model mencapai 85%, yang berarti model berhasil mengklasifikasikan data uji dengan benar dalam 85% kasus. Pada level kelas, model menunjukkan performa yang sangat baik untuk kelas-kelas seperti kelas 3, 4, 7, dan 8, dengan nilai precision dan recall yang tinggi, masing-masing lebih dari 0.9, yang menunjukkan bahwa model sangat baik dalam mengidentifikasi data dari kelas-kelas tersebut. Namun, model mengalami kesulitan dalam mengklasifikasikan kelas 5 dan kelas 6, dengan nilai precision dan recall yang lebih rendah, terutama pada kelas 6 yang memiliki recall sebesar 0.59, yang menunjukkan bahwa model gagal mengenali sebagian besar data kelas tersebut. Secara keseluruhan, macro avg dan weighted avg F1-score sebesar 0.85 menunjukkan bahwa meskipun ada beberapa tantangan pada kelas minoritas, model tetap menunjukkan keseimbangan yang baik dalam pengklasifikasian data."
      ],
      "metadata": {
        "id": "0p1Ob46VE5c0"
      }
    },
    {
      "cell_type": "code",
      "source": [
        "conf_matrix_rf = confusion_matrix(y_test, y_pred)\n",
        "sns.heatmap(conf_matrix_rf, annot=True, fmt=\"d\", cmap=\"Blues\")\n",
        "plt.xlabel(\"Predicted\")\n",
        "plt.ylabel(\"Actual\")\n",
        "plt.title(\"Confusion Matrix for Random Forest Model\")\n",
        "plt.show()"
      ],
      "metadata": {
        "colab": {
          "base_uri": "https://localhost:8080/",
          "height": 472
        },
        "id": "mObYFvboiFnh",
        "outputId": "8c7643c4-e520-4710-efe7-fd4ed79f939c"
      },
      "execution_count": 17,
      "outputs": [
        {
          "output_type": "display_data",
          "data": {
            "text/plain": [
              "<Figure size 640x480 with 2 Axes>"
            ],
            "image/png": "[encoded data removed]"
          },
          "metadata": {}
        }
      ]
    },
    {
      "cell_type": "markdown",
      "source": [
        "# Simpan Model"
      ],
      "metadata": {
        "id": "kwYP1k1L3ZqC"
      }
    },
    {
      "cell_type": "code",
      "source": [
        "joblib.dump(rf_model, 'wine_quality_model.pkl')"
      ],
      "metadata": {
        "colab": {
          "base_uri": "https://localhost:8080/"
        },
        "id": "MVv1jCNQpdkT",
        "outputId": "e44327e2-5690-4eef-b182-21941ca31c95"
      },
      "execution_count": 18,
      "outputs": [
        {
          "output_type": "execute_result",
          "data": {
            "text/plain": [
              "['wine_quality_model.pkl']"
            ]
          },
          "metadata": {},
          "execution_count": 18
        }
      ]
    },
    {
      "cell_type": "markdown",
      "source": [
        "# Predict to data test"
      ],
      "metadata": {
        "id": "s8v5akUdrVmb"
      }
    },
    {
      "cell_type": "code",
      "source": [
        "# Load kembali scaler dan model\n",
        "scaler = joblib.load('scaler.pkl')\n",
        "model = joblib.load('wine_quality_model.pkl')\n",
        "\n",
        "# Preprocessing test set\n",
        "X_test = test.drop(['Id'], axis=1)\n",
        "X_test_scaled = scaler.transform(X_test)"
      ],
      "metadata": {
        "id": "OAcjL2O2rdNH"
      },
      "execution_count": 19,
      "outputs": []
    },
    {
      "cell_type": "code",
      "source": [
        "# Prediksi\n",
        "y_test_pred = model.predict(X_test_scaled)\n",
        "\n",
        "# Simpan Hasil Prediksi\n",
        "output = pd.DataFrame({\n",
        "    'Id': test['Id'],\n",
        "    'quality': y_test_pred\n",
        "})\n",
        "\n",
        "output.to_csv('hasilprediksi_4112322016.csv', index=False)  # ganti 123 dengan 3 NIM terakhir kamu\n",
        "print(\"Prediksi berhasil disimpan!\")"
      ],
      "metadata": {
        "colab": {
          "base_uri": "https://localhost:8080/"
        },
        "id": "nP0mMwVZrkmw",
        "outputId": "50a491cf-c4a4-492d-9066-cbcddebdc3e3"
      },
      "execution_count": 20,
      "outputs": [
        {
          "output_type": "stream",
          "name": "stdout",
          "text": [
            "Prediksi berhasil disimpan!\n"
          ]
        }
      ]
    }
  ]
}